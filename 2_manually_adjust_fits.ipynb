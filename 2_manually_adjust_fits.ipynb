{
 "cells": [
  {
   "cell_type": "code",
   "execution_count": 1,
   "metadata": {},
   "outputs": [],
   "source": [
    "%matplotlib notebook"
   ]
  },
  {
   "cell_type": "code",
   "execution_count": 2,
   "metadata": {},
   "outputs": [],
   "source": [
    "# set working directory\n",
    "basepath = '/Volumes/Jokulhaup_5T/Greenland-melange/'"
   ]
  },
  {
   "cell_type": "code",
   "execution_count": 3,
   "metadata": {},
   "outputs": [],
   "source": [
    "# import packages\n",
    "import numpy as np\n",
    "import numpy.linalg\n",
    "import pandas as pd\n",
    "import scipy.io\n",
    "import os\n",
    "import h5py\n",
    "import matplotlib.pyplot as plt\n",
    "import cmocean"
   ]
  },
  {
   "cell_type": "code",
   "execution_count": null,
   "metadata": {},
   "outputs": [],
   "source": [
    "# !Pip3 install cmocean"
   ]
  },
  {
   "cell_type": "code",
   "execution_count": 4,
   "metadata": {},
   "outputs": [],
   "source": [
    "# the two equations from the parameters\n",
    "def EBC_model(c,v):\n",
    "    c1=float(c[0]); c2=float(c[1]); a=float(c[2]); c3=float(c[3]); c4=float(c[4]) # parse input\n",
    "    n = ((c1*v**(-a))*np.exp(-v/c2)) + (c3*np.exp(-v/c4)) # generate equation \n",
    "    return n\n",
    "def powerlaw_model(c,v):\n",
    "    c5=float(c[0]); c6=float(c[1]); # parse input\n",
    "    n = c5*v**(-c6)\n",
    "    return n"
   ]
  },
  {
   "cell_type": "code",
   "execution_count": 5,
   "metadata": {},
   "outputs": [],
   "source": [
    "# normalized error calculation used for automated fitting:\n",
    "def norm_error(n,nmod,norm_type,normalize_exp):\n",
    "    res = (np.array(n)-np.array(nmod))/(np.array(n)**normalize_exp) # calculate normalized residuals\n",
    "    return np.linalg.norm(res,norm_type)"
   ]
  },
  {
   "cell_type": "code",
   "execution_count": 6,
   "metadata": {},
   "outputs": [],
   "source": [
    "# strip the values from the .mat file structure and return it as a list\n",
    "def strip_mat_var(vmat):\n",
    "    var = []\n",
    "    for v in vmat:\n",
    "        var.append(v[0])\n",
    "    return np.array(var)"
   ]
  },
  {
   "cell_type": "markdown",
   "metadata": {},
   "source": [
    "# 1) Select the file and read in the data\n"
   ]
  },
  {
   "cell_type": "code",
   "execution_count": null,
   "metadata": {},
   "outputs": [],
   "source": [
    "glacier_abbrev = 'KOG' # GLACIER ID\n",
    "doi = '20200330' # DATE OF SIZE DISTRIBUTION\n",
    "print('Analyzing size distribution for',glacier_abbrev,'from',doi)"
   ]
  },
  {
   "cell_type": "code",
   "execution_count": null,
   "metadata": {},
   "outputs": [],
   "source": [
    "# grab file and load it\n",
    "nthresh = 1e-8\n",
    "for file in os.listdir(basepath+glacier_abbrev+'/DEMs'):\n",
    "    if doi in file and (file.endswith('melange-DEMfilled.mat')): # or file.endswith('iceberg-data.mat')) and counter < 1:\n",
    "#     if doi in file and (file.endswith('iceberg-distribution.txt')): # or file.endswith('iceberg-data.mat')) and counter < 1:\n",
    "        #if file.endswith('iceberg-data.mat'): # if both files exist, specify which one\n",
    "            matfile = h5py.File(basepath+glacier_abbrev+'/DEMs/'+file,'r')\n",
    "\n",
    "            v1 = matfile.get('m/melange/Asurfs');\n",
    "            print(v1)\n",
    "            v1 = strip_mat_var(v1)\n",
    "            n1 = matfile.get('m/melange/bergs'); \n",
    "            print(n1)\n",
    "            n1 = strip_mat_var(n1)\n",
    "            dv1 = matfile.get('m/melange/binwidth'); \n",
    "            dv1 = strip_mat_var(dv1)\n",
    "\n",
    "            # filter\n",
    "            v1 = v1[n1 > nthresh]\n",
    "            dv1 = dv1[n1 > nthresh]\n",
    "            n1 = (n1[n1 > nthresh])/dv1 \n"
   ]
  },
  {
   "cell_type": "code",
   "execution_count": null,
   "metadata": {},
   "outputs": [],
   "source": [
    "# grab parameters file from automated fitting\n",
    "paramfiles = []\n",
    "for file in os.listdir(basepath+glacier_abbrev+'/models/'):\n",
    "    if file.endswith('csv'):\n",
    "        paramfiles.append(file)\n",
    "print(str(len(paramfiles))+' parameter files generated.')\n",
    "paramfile = paramfiles[0] # ADJUST HERE IF THERE ARE MULTIPLE FILES\n",
    "print(paramfile)"
   ]
  },
  {
   "cell_type": "code",
   "execution_count": null,
   "metadata": {},
   "outputs": [],
   "source": [
    "# load parameters from parameter file\n",
    "params_df = pd.read_csv(basepath+glacier_abbrev+'/models/'+paramfile,\n",
    "                       names=['date','c1','c2','a','c3','c4','c5','c6'])\n",
    "subset_df = params_df[params_df.date == int(doi)]\n",
    "print(subset_df)\n",
    "\n",
    "# assign the variables\n",
    "c1=float(subset_df.c1); c2=float(subset_df.c2); a=float(subset_df.a); \n",
    "c3=float(subset_df.c3); c4=float(subset_df.c4)\n",
    "c5=float(subset_df.c5); c6=float(subset_df.c6)"
   ]
  },
  {
   "cell_type": "markdown",
   "metadata": {},
   "source": [
    "## Plot:"
   ]
  },
  {
   "cell_type": "code",
   "execution_count": null,
   "metadata": {
    "scrolled": false
   },
   "outputs": [],
   "source": [
    "season_cmap = cmocean.cm.curl(np.linspace(0, 1, 12)) # coloramp\n",
    "fs=14 # set fontsize\n",
    "\n",
    "plt.figure(figsize=(6,5))\n",
    "plt.clf()\n",
    "plt.loglog(v1,n1,'+', color=season_cmap[int(doi[4:6])], markersize=10) # plot the data\n",
    "plt.xticks(fontsize=fs); plt.yticks(fontsize=fs)\n",
    "\n",
    "nmod = EBC_model([c1,c2,a,c3,c4],v1) # plot EBC model\n",
    "plt.loglog(v1,nmod,'-', color=season_cmap[int(doi[4:6])])\n",
    "plt.title(glacier_abbrev+' '+doi,fontsize=fs)\n",
    "\n",
    "if not np.isnan(c5) and not np.isnan(c6): # if submarine melt was accounted for\n",
    "    if c5 > c1:\n",
    "        print('c5 > c1, no submarine melt influence.')\n",
    "        c5 = np.NaN; c6 = np.NaN;\n",
    "    else:\n",
    "        plt.loglog(v1[0:7], powerlaw_model([c5, c6], v1[0:7]), 'k--') # plot the curve\n",
    "else:\n",
    "    print('No submarine melt influence.')   \n",
    "\n",
    "plt.grid()\n",
    "plt.show()"
   ]
  },
  {
   "cell_type": "code",
   "execution_count": null,
   "metadata": {},
   "outputs": [],
   "source": [
    "# c5 = np.NaN; c6 = np.NaN; # MANUALLY SET NO SUBMARINE MELT IF THE TAPERING LOOKS INCORRECTLY IDENTIFIED"
   ]
  },
  {
   "cell_type": "markdown",
   "metadata": {},
   "source": [
    "# 2) Slider GUI to make manual adjustments to fit"
   ]
  },
  {
   "cell_type": "code",
   "execution_count": null,
   "metadata": {},
   "outputs": [],
   "source": [
    "from matplotlib.widgets import Slider, Button, RadioButtons"
   ]
  },
  {
   "cell_type": "code",
   "execution_count": null,
   "metadata": {
    "scrolled": false
   },
   "outputs": [],
   "source": [
    "fig = plt.figure(figsize=(6,5))\n",
    "ax = fig.add_subplot(111); fig.subplots_adjust(left=0.2, bottom=0.45)\n",
    "\n",
    "# Draw the initial plot\n",
    "ax.loglog(v1,n1,'+', color=season_cmap[int(doi[4:6])], markersize=5) # plot the data\n",
    "# The 'line' variable is used for modifying the line later\n",
    "[line] = ax.loglog(v1,EBC_model([c1,c2,a,c3,c4],v1),'--', color='k', markersize=10)\n",
    "\n",
    "# Define an axes area and draw sliders on it:\n",
    "axis_color = 'lightgoldenrodyellow'\n",
    "# c1 slider\n",
    "c1_slider_ax  = fig.add_axes([0.1, 0.3, 0.65, 0.03], facecolor=axis_color)\n",
    "c1_slider = Slider(c1_slider_ax, 'c1', 0, 1e7, valinit=c1) # adjust range\n",
    "# c2 slider\n",
    "c2_slider_ax = fig.add_axes([0.1, 0.25, 0.65, 0.03], facecolor=axis_color)\n",
    "c2_slider = Slider(c2_slider_ax, 'c2', 0, 1e6, valinit=c2) # adjust range\n",
    "# c3 slider\n",
    "c3_slider_ax = fig.add_axes([0.1, 0.2, 0.65, 0.03], facecolor=axis_color)\n",
    "c3_slider = Slider(c3_slider_ax, 'c3', 0.1e-8, 0.1e-2, valinit=c3) # adjust range\n",
    "# c4 slider\n",
    "c4_slider_ax = fig.add_axes([0.1, 0.15, 0.65, 0.03], facecolor=axis_color)\n",
    "c4_slider = Slider(c4_slider_ax, 'c4', 0, 1e6, valinit=c4) # adjust range\n",
    "# alpha slider\n",
    "a_slider_ax = fig.add_axes([0.1, 0.1, 0.65, 0.03], facecolor=axis_color)\n",
    "a_slider = Slider(a_slider_ax, 'a', 1.5, 2, valinit=a)\n",
    "\n",
    "\n",
    "error0 = \"{:.2f}\".format(norm_error(n1,EBC_model([c1,c2,a,c3,c4],v1),2,1.2)) # grab error\n",
    "t1 = ax.text(v1[round(len(v1)*1e-2)], np.min(n1)*1e-4, # position\n",
    "              'error='+error0)\n",
    "\n",
    "# Define an action for modifying the line when any slider's value changes\n",
    "def sliders_on_changed(val):\n",
    "    line.set_ydata(EBC_model([c1_slider.val, c2_slider.val,a_slider.val,\n",
    "                              c3_slider.val,c4_slider.val],v1))\n",
    "    error = norm_error(n1,EBC_model([c1_slider.val,c2_slider.val,a_slider.val,\n",
    "                                c3_slider.val,c4_slider.val],v1),2,1.2)\n",
    "    t1.set_text('error='+\"{:.2f}\".format(error))\n",
    "    plt.draw()\n",
    "    fig.canvas.draw_idle()\n",
    "c1_slider.on_changed(sliders_on_changed)\n",
    "c2_slider.on_changed(sliders_on_changed)\n",
    "c3_slider.on_changed(sliders_on_changed)\n",
    "c4_slider.on_changed(sliders_on_changed)\n",
    "a_slider.on_changed(sliders_on_changed)\n",
    "\n",
    "# Add a button for resetting the parameters\n",
    "reset_button_ax = fig.add_axes([0.8, 0.025, 0.1, 0.04])\n",
    "reset_button = Button(reset_button_ax, 'Reset', color=axis_color, hovercolor='0.975')\n",
    "def reset_button_on_clicked(mouse_event):\n",
    "    c1_slider.reset()\n",
    "    c2_slider.reset()\n",
    "reset_button.on_clicked(reset_button_on_clicked)\n",
    "\n",
    "plt.show()"
   ]
  },
  {
   "cell_type": "markdown",
   "metadata": {},
   "source": [
    "## Record final adjusted values"
   ]
  },
  {
   "cell_type": "code",
   "execution_count": null,
   "metadata": {},
   "outputs": [],
   "source": [
    "# create folder\n",
    "if not os.path.exists(basepath+glacier_abbrev+'/manually_adjusted_models/'):\n",
    "    os.mkdir(basepath+glacier_abbrev+'/manually_adjusted_models/')\n",
    "    print('directory made')\n",
    "else:\n",
    "    print('directory already exists')"
   ]
  },
  {
   "cell_type": "code",
   "execution_count": null,
   "metadata": {},
   "outputs": [],
   "source": [
    "# save adjusted figure\n",
    "plt.savefig(basepath+glacier_abbrev+'/manually_adjusted_models/'\n",
    "            +glacier_abbrev+'-'+doi+\"-model-adjusted.png\", dpi=300) "
   ]
  },
  {
   "cell_type": "code",
   "execution_count": null,
   "metadata": {},
   "outputs": [],
   "source": [
    "# save adjusted parameters\n",
    "c1_new = c1_slider.val; print('c1 = '+str(c1_new))\n",
    "c2_new = c2_slider.val; print('c2 = '+str(c2_new))\n",
    "c3_new = c3_slider.val; print('c3 = '+str(c3_new))\n",
    "c4_new = c4_slider.val; print('c4 = '+str(c4_new))\n",
    "a_new = a_slider.val; print('a = '+str(a_new))\n",
    "print('c5 and c6:',c5,c6)\n",
    "print('Original error = ',error0)\n",
    "\n",
    "# write to csv\n",
    "new_df = pd.DataFrame([[c1_new, c2_new, a_new, c3_new, c4_new, str(c5), str(c6)]],\n",
    "                      columns=['c1','c2','a','c3','c4','c5','c6'])\n",
    "new_df.to_csv(basepath+glacier_abbrev+'/manually_adjusted_models/'\n",
    "            +glacier_abbrev+'-'+doi+\"-parameters-adjusted.csv\") "
   ]
  },
  {
   "cell_type": "code",
   "execution_count": null,
   "metadata": {},
   "outputs": [],
   "source": []
  },
  {
   "cell_type": "code",
   "execution_count": null,
   "metadata": {},
   "outputs": [],
   "source": []
  }
 ],
 "metadata": {
  "kernelspec": {
   "display_name": "Python 3",
   "language": "python",
   "name": "python3"
  },
  "language_info": {
   "codemirror_mode": {
    "name": "ipython",
    "version": 3
   },
   "file_extension": ".py",
   "mimetype": "text/x-python",
   "name": "python",
   "nbconvert_exporter": "python",
   "pygments_lexer": "ipython3",
   "version": "3.8.8"
  }
 },
 "nbformat": 4,
 "nbformat_minor": 4
}
